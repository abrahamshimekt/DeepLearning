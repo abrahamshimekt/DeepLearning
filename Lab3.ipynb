{
  "cells": [
    {
      "cell_type": "markdown",
      "source": [
        "# Neccessary Libraries\n",
        "\n"
      ],
      "metadata": {
        "id": "ZT76Mn5mKIMk"
      }
    },
    {
      "cell_type": "code",
      "source": [
        "import torch\n",
        "import torch.nn as nn\n",
        "import torch.optim as optim\n",
        "import numpy as np"
      ],
      "metadata": {
        "id": "EKK-Ho8KKcVA"
      },
      "execution_count": 10,
      "outputs": []
    },
    {
      "cell_type": "markdown",
      "source": [
        "# Generating random data for demonstration purposes"
      ],
      "metadata": {
        "id": "1AHAk0smLAe4"
      }
    },
    {
      "cell_type": "code",
      "source": [
        "np.random.seed(42)\n",
        "num_samples = 1000\n",
        "input_dim = 4\n",
        "output_classes = 3\n",
        "\n",
        "# Creating random input data and labels\n",
        "X = np.random.random((num_samples, input_dim)).astype(np.float32)\n",
        "y = np.random.randint(output_classes, size=num_samples)\n",
        "# Convert labels to one-hot encoded tensors\n",
        "y = torch.nn.functional.one_hot(torch.tensor(y), num_classes=output_classes).float()\n",
        "\n",
        "# Convert data into PyTorch tensors\n",
        "X_tensor = torch.tensor(X)\n",
        "y_tensor = torch.tensor(y)"
      ],
      "metadata": {
        "colab": {
          "base_uri": "https://localhost:8080/"
        },
        "id": "0Hg0DTaSK8Vd",
        "outputId": "1a1de0dd-2c3e-461a-91ff-37531c766c08"
      },
      "execution_count": 11,
      "outputs": [
        {
          "output_type": "stream",
          "name": "stderr",
          "text": [
            "<ipython-input-11-a7fe2f09f75c>:14: UserWarning: To copy construct from a tensor, it is recommended to use sourceTensor.clone().detach() or sourceTensor.clone().detach().requires_grad_(True), rather than torch.tensor(sourceTensor).\n",
            "  y_tensor = torch.tensor(y)\n"
          ]
        }
      ]
    },
    {
      "cell_type": "markdown",
      "source": [
        "# Creating the model"
      ],
      "metadata": {
        "id": "5QlBHU5TLLM-"
      }
    },
    {
      "cell_type": "code",
      "source": [
        "class NeuralNetwork(nn.Module):\n",
        "    def __init__(self):\n",
        "        super(NeuralNetwork, self).__init__()\n",
        "        self.fc1 = nn.Linear(input_dim, 18)\n",
        "        self.fc2 = nn.Linear(18, 18)\n",
        "        self.fc3 = nn.Linear(18, 18)\n",
        "        self.output = nn.Linear(18, output_classes)\n",
        "        self.relu = nn.ReLU()\n",
        "        self.sigmoid = nn.Sigmoid()\n",
        "        self.softmax = nn.Softmax(dim=1)\n",
        "\n",
        "    def forward(self, x):\n",
        "        x = self.relu(self.fc1(x))\n",
        "        x = self.sigmoid(self.fc2(x))\n",
        "        x = self.relu(self.fc3(x))\n",
        "        x = self.softmax(self.output(x))\n",
        "        return x\n",
        "\n",
        "# Instantiate the model\n",
        "model = NeuralNetwork()\n",
        "\n",
        "# Define loss function and optimizer\n",
        "criterion = nn.CrossEntropyLoss()\n",
        "optimizer = optim.Adam(model.parameters(), lr=0.001)"
      ],
      "metadata": {
        "id": "Rap85cw8J_Ic"
      },
      "execution_count": 13,
      "outputs": []
    },
    {
      "cell_type": "markdown",
      "source": [
        "\n",
        "# Train the model"
      ],
      "metadata": {
        "id": "ngFzPUt4LddD"
      }
    },
    {
      "cell_type": "code",
      "source": [
        "epochs = 10\n",
        "batch_size = 32\n",
        "for epoch in range(epochs):\n",
        "    for i in range(0, len(X_tensor), batch_size):\n",
        "        inputs = X_tensor[i:i+batch_size]\n",
        "        labels = y_tensor[i:i+batch_size]\n",
        "\n",
        "        optimizer.zero_grad()\n",
        "        outputs = model(inputs)\n",
        "        loss = criterion(outputs, torch.argmax(labels, axis=1))\n",
        "        loss.backward()\n",
        "        optimizer.step()"
      ],
      "metadata": {
        "id": "NvpQISwWLiZm"
      },
      "execution_count": 15,
      "outputs": []
    },
    {
      "cell_type": "markdown",
      "source": [
        "# Evaluate the model"
      ],
      "metadata": {
        "id": "4ss9uB5PLxiO"
      }
    },
    {
      "cell_type": "code",
      "source": [
        "with torch.no_grad():\n",
        "    outputs = model(X_tensor)\n",
        "    loss = criterion(outputs, torch.argmax(y_tensor, axis=1))\n",
        "    _, predicted = torch.max(outputs, 1)\n",
        "    accuracy = (predicted == torch.argmax(y_tensor, axis=1)).sum().item() / len(y_tensor)\n",
        "\n",
        "print(f\"Loss: {loss.item():.4f}\")\n",
        "print(f\"Accuracy: {accuracy:.4f}\")"
      ],
      "metadata": {
        "colab": {
          "base_uri": "https://localhost:8080/"
        },
        "id": "6Z9PmPJOLr8X",
        "outputId": "7a8e0e4a-66b9-43a4-8506-e7264481a0c0"
      },
      "execution_count": 16,
      "outputs": [
        {
          "output_type": "stream",
          "name": "stdout",
          "text": [
            "Loss: 1.0973\n",
            "Accuracy: 0.3550\n"
          ]
        }
      ]
    }
  ],
  "metadata": {
    "colab": {
      "provenance": [],
      "toc_visible": true
    },
    "kernelspec": {
      "display_name": "Python 3",
      "name": "python3"
    },
    "language_info": {
      "name": "python"
    }
  },
  "nbformat": 4,
  "nbformat_minor": 0
}